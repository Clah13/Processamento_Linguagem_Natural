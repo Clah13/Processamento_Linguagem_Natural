{
  "nbformat": 4,
  "nbformat_minor": 0,
  "metadata": {
    "colab": {
      "provenance": [],
      "toc_visible": true,
      "mount_file_id": "1bnEghHXp1yuuAlL6JU9MnucRFAIZH54V",
      "authorship_tag": "ABX9TyM7x9t942P3czVHSFYTgGGz",
      "include_colab_link": true
    },
    "kernelspec": {
      "name": "python3",
      "display_name": "Python 3"
    },
    "language_info": {
      "name": "python"
    }
  },
  "cells": [
    {
      "cell_type": "markdown",
      "metadata": {
        "id": "view-in-github",
        "colab_type": "text"
      },
      "source": [
        "<a href=\"https://colab.research.google.com/github/Clah13/Processamento_Linguagem_Natural/blob/main/PLN.ipynb\" target=\"_parent\"><img src=\"https://colab.research.google.com/assets/colab-badge.svg\" alt=\"Open In Colab\"/></a>"
      ]
    },
    {
      "cell_type": "markdown",
      "source": [
        "## Etapa 01 - Início do Processamento do Corpus\n",
        "\n",
        "Leitura do arquivo"
      ],
      "metadata": {
        "id": "gJ0ErnKfIhIB"
      }
    },
    {
      "cell_type": "code",
      "execution_count": 10,
      "metadata": {
        "colab": {
          "base_uri": "https://localhost:8080/"
        },
        "id": "JDWeky4WH5MJ",
        "outputId": "5c830fd2-92b4-43f8-e212-10997e00e3ca"
      },
      "outputs": [
        {
          "output_type": "stream",
          "name": "stdout",
          "text": [
            "219835\n"
          ]
        }
      ],
      "source": [
        "# Criar uma função para fazer a abertura e a leitura do arquivo\n",
        "\n",
        "def ler(nome_arquivo):\n",
        "  arquivo = open(nome_arquivo, 'r', encoding = 'utf-8')\n",
        "  conteudo_arq = arquivo.read()\n",
        "  arquivo.close()\n",
        "  return conteudo_arq\n",
        "\n",
        "texto = ler ('/content/drive/MyDrive/Ubirajara.txt')\n",
        "print(len(texto))"
      ]
    },
    {
      "cell_type": "markdown",
      "source": [
        "### Desafio Etapa 1\n",
        "\n",
        "1. Explicar a diferença entre **caminho absoluto** e **caminho relativo**;\n",
        "2. Estabeleça um **tratamento de erros** para a função **ler** com Try-Except.\n",
        "\n",
        "Obs: Código configurado com o objetivo de gerar uma exceção proposital."
      ],
      "metadata": {
        "id": "u5bGhYq8Ir6p"
      }
    },
    {
      "cell_type": "code",
      "source": [
        "# Criar uma função para fazer a abertura e a leitura do arquivo\n",
        "\n",
        "\"\"\"Erros comuns mapeados:\n",
        "  1. FileNotFoundError\n",
        "    Quando há um caminho válido, mas o arquivo não foi encontrado;\n",
        "  2. PermissionError\n",
        "    Quando há problemas no acesso de arquivos devido a restrição de permissões;\n",
        "  3. IsADirectoryError\n",
        "    Quando o caminho aponta para uma pasta ao invés de um arquivo;\n",
        "  4. Erros genéricos\n",
        "    Para capturar demais exceções não mapeadas.\"\"\"\n",
        "\n",
        "def ler(nome_arquivo):\n",
        "\n",
        "  try:\n",
        "\n",
        "    with open(nome_arquivo, 'r', encoding = 'utf-8') as arquivo: # With open fecha o arquivo mesmo com erro\n",
        "      conteudo_arq = arquivo.read()\n",
        "      return True, conteudo_arq # Usados na validação para execução dos comandos no final do arquivo\n",
        "\n",
        "  except FileNotFoundError:\n",
        "\n",
        "    # Sempre vai retornar um par com true ou false e o que seria equivalente ao texto ou texto do erro.\n",
        "\n",
        "    erro = \"Erro: Arquivo não encontrado. Verifique o caminho e tente novamente.\"\n",
        "    return False, erro\n",
        "\n",
        "  except PermissionError:\n",
        "\n",
        "    erro = \"Erro: Não foi possível abrir o arquivo. Verifique as configurações de permissão e tente novamente.\"\n",
        "    return False, erro\n",
        "\n",
        "  except IsADirectoryError:\n",
        "\n",
        "    erro = \"Erro: O diretório indicado aponta para uma pasta. Por favor, verifique o caminho e tente novamente.\"\n",
        "    return False, erro\n",
        "\n",
        "  except Exception as e:\n",
        "\n",
        "    erro = \"Erro: Um erro inesperado ocorreu:\" + {e}\n",
        "    return False, erro\n",
        "\n",
        "\"\"\"O caminho destacado abaixo representa um caminho absoluto, pois indica o\n",
        "a jornada completa do conjunto de pastas até a fonte de armazenamento (root).\n",
        "\n",
        "O caminho relativo executa uma função similar do caminho absoluto, no sentido de\n",
        "ser um caminho baseado na localização do arquivo. No entanto, é utilizado  quando\n",
        "a referência está no mesmo diretório/subdiretório do código ou no script.\n",
        "\n",
        "Deste modo, não é necessário que todo o local seja explicitamente descrito para\n",
        "que a referência seja identificada com sucesso. Caso o caminho relativo fosse\n",
        "utilizado logo abaixo, a referência seria encurtada para apenas 'Ubirajara.txt',\n",
        "por exemplo.\"\"\"\n",
        "\n",
        "sucesso, texto = ler ('/content/drive/MyDrive')\n",
        "\n",
        "# Validação criada para que o comando len não retorne o len do texto do erro\n",
        "# Ou cause um erro adicional por retornar none por default devido ao erro.\n",
        "\n",
        "if sucesso:\n",
        "  print(len(texto))\n",
        "\n",
        "else:\n",
        "  print(texto)"
      ],
      "metadata": {
        "colab": {
          "base_uri": "https://localhost:8080/"
        },
        "id": "JBvT8wU8JJ6R",
        "outputId": "831a3ad7-bddd-4968-de9a-48fb05d44850"
      },
      "execution_count": 4,
      "outputs": [
        {
          "output_type": "stream",
          "name": "stdout",
          "text": [
            "Erro: O diretório indicado aponta para uma pasta. Por favor, verifique o caminho e tente novamente.\n"
          ]
        }
      ]
    },
    {
      "cell_type": "markdown",
      "source": [
        "## Etapa 02 - Buscador de Palavras\n",
        "\n"
      ],
      "metadata": {
        "id": "3pkM17qGh0Ut"
      }
    },
    {
      "cell_type": "code",
      "source": [
        "def buscador(alvo, texto):\n",
        "  texto = texto.replace('\\n', ' ')\n",
        "  texto = texto.replace('\\t', ' ')\n",
        "\n",
        "  ocorrencias = []\n",
        "\n",
        "  encontrado_aqui = texto.find(alvo, 0)\n",
        "\n",
        "  # Se encontra a palavra, informa a posição\n",
        "  # Se não encontrar, informa -1\n",
        "\n",
        "  while encontrado_aqui > 0:\n",
        "\n",
        "    pos_inicial = encontrado_aqui - (40 - len(alvo))\n",
        "    trecho = texto [pos_inicial: pos_inicial + 80]\n",
        "\n",
        "    ocorrencias.append(trecho)\n",
        "\n",
        "    encontrado_aqui = texto.find(alvo, encontrado_aqui + 1)\n",
        "\n",
        "    # Inicia a busca a partir da posição anterior + 1\n",
        "    # Se encontra a palavra, informa a posição\n",
        "    # se não encontrar, informa -1\n",
        "\n",
        "  return ocorrencias\n",
        "\n",
        "resultados = buscador ('peito', texto)\n",
        "\n",
        "for trecho in resultados:\n",
        "  print(trecho)"
      ],
      "metadata": {
        "colab": {
          "base_uri": "https://localhost:8080/"
        },
        "id": "9nf-E6usimV0",
        "outputId": "128b2876-675e-43e0-e016-6c4474034e16"
      },
      "execution_count": 8,
      "outputs": [
        {
          "output_type": "stream",
          "name": "stdout",
          "text": [
            "i o chefe tocantim quem recebeu no peito a ponta farpada.  Quando o corpo robust\n",
            " se tua arma traiçoeira me feriu o peito, o suplicio não vencerá a constancia do\n",
            "java falar; todos escutaram com respeito o heróe, ainda maior na desgraça.  --Gu\n",
            "ança, escrava de Jaguarê, cravou o peito do inimigo.  «Elle caiu, o guerreiro ch\n",
            "O labio de Jandira emudeceu; mas o peito soluçou.  A virjem conheceu que o amor \n",
            " todos dignos de teu valor. Nestes peitos, que te pertencem, ella os nutrirá com\n",
            "ndos que os botões do cardo por um peito feroz, e as mãos lijeiras que tecem os \n",
            " o acolher, todos o escutam com respeito.  «Em suas palavras prudentes, os anciã\n",
            "não quando elle não chupa mais seu peito. Ella é como a mangabeira; nutre o frut\n",
            "ente do Xingú.  As arvores que seu peito encontrava caíam lascadas.  Jurandir es\n",
            "e. Os noivos cuidavam que era a do peito do tucano; mas ella sabia que era do pe\n",
            " tucano; mas ella sabia que era do peito da arára e que tinha as côres de seu gu\n",
            "os arredores. Nada encontrou de suspeito; o rasto, que o inquietava, não chegára\n",
            "amor, e quando o leite encher seus peitos mimozos, para que ella suspenda ao col\n",
            " O grande chefe vergou a cabeça ao peito, como o cedro altaneiro batido pelo tuf\n",
            "re a cabeça de Arací:  --Itaquê respeitou a lei de hospitalidade no corpo de Ubi\n",
            "as o grito de espanto sossobrou no peito dos guerreiros, e rompeu em um grito de\n",
            "o velho guerreiro sossobrou-lhe no peito:  --O arco de Itaquê é como o gavião qu\n",
            "s do guerreiro quando se cruzam ao peito para exprimir a amizade.  Ubirajara apa\n",
            "eu guerreiro.  Ubirajara cinjiu ao peito com um e outro braço, a espoza e a virj\n",
            "336.  Póde-se ler tambem a este respeito o que diz Gabriel Soares, cit. no cap. \n",
            "abriel Soares se exprime a este respeito no cap. 152: «E como o marido lhe leva \n",
            "ilizada se observa tão profundo respeito pela união conjugal, a ponto de não con\n",
            ". VIII, que a liga vermelha e o respeito que ella inspirava indicassem guarda da\n",
            " como sua extensão, dependia do respeito que elle conseguia infundir a seus guer\n",
            "quelles sacerdotes, cercados do respeito dos guerreiros, fortes pelo prestijio d\n",
            "lações do seu culto.  Tal era o respeito que o selvajem professava pela dignidad\n",
            "sseio. Ives d'Evreux diz a este respeito: «Ils sont fort soigneux de tenir leur \n",
            "vel e _nheng_ falar.--Veja-se a respeito dos cantores, _nhengara_, o que se diss\n"
          ]
        }
      ]
    },
    {
      "cell_type": "markdown",
      "source": [
        "### Desafio Etapa 2:\n",
        "\n",
        "1. **Busca Case-Insensitive:**\n",
        "O código já implementa a busca case-insensitive. Explicar por que isso é importante em PLN e o que aconteceria se não fosse feito.\n",
        "\n",
        "2. **Contagem de Ocorrências:**\n",
        "Adicione ao buscador uma contagem total de quantas vezes a palavra-alvo foi encontrada e retorne essa contagem junto com a lista de trechos."
      ],
      "metadata": {
        "id": "PSpC245gFi2_"
      }
    },
    {
      "cell_type": "code",
      "source": [
        "'''\n",
        "\n",
        "1. Busca case insensitive permite que um trecho seja identificado, não importa a\n",
        "forma escrita da palavra.\n",
        "\n",
        "Os elementos de normalização de texto em python são métodos como lower(),\n",
        "upper(), casefold(), dentre outros. Além disso, existem métodos para remoção de\n",
        "caracteres especiais.\n",
        "\n",
        "A utilização de cada método depende da necessidade do usuário. Caso não ocorra a\n",
        "normalização do texto, em um código destinado a buscar e contar instâncias de\n",
        "palavras, resulta-se em uma função performática abaixo do esperado, perda de\n",
        "dados e resultados que não representam a realidade. Isso se deve, pois uma linguagem\n",
        "e suas formas mudam a cada cenário e as palavras podem ser escritas de diferentes\n",
        "maneiras por seus interlocutores:\n",
        "\n",
        "- Com inicial Maiúscula;\n",
        "- com letra minúsucula;\n",
        "- CoM DiFeReNtEs FoRmAs De EsCrItA;\n",
        "- com erros de digitaCaO e acentuacão;\n",
        "\n",
        "Por outro lado, é importante diferenciar a forma da palavra com o seu\n",
        "significado implícito se o objetivo resultar em mais do que uma simples contagem\n",
        "de palavras, como a análise de sentimento. Algumas palavras não refletem mudanças\n",
        "de significado quando possuem letras maiúsculas (bola, Bola), mas existem exceções\n",
        "(brigadeiro -> Brigadeiro) de nomes próprios e/ou acentuações (roma/Roma/romã)\n",
        "que, ao serem normalizadas, dependerão de um contexto adicional ou poderão gerar\n",
        "falsos positivos / negativos, dependendo do objetivo final daquele código.\n",
        "\n",
        "O código apresentado acima na etapa 02 não contém elementos de normalização\n",
        "do texto, sendo estes implementados apenas na etapa 03. Se eu busco, por exemplo,\n",
        "'cão' e 'ção', o buscador me retorna palavras em trechos diferentes.\n",
        "O mesmo ocorre se eu buscar por 'Veja' ou 'veja'.\n",
        "\n",
        "Por fim, o buscador não diferencia palavras compostas de palavras singulares\n",
        "durante a busca. Então se procurarmos por 'peito', ele retornará a palavra peito,\n",
        "mas também encontrará um match na palavra 'respeito'.\n",
        "\n",
        "Isso é relevante caso haja uma necessidade de filtragem por substantivos específicos,\n",
        "como mente e outros advérbios, como comumente, tranquilamente, etc.\n",
        "\n",
        "'''\n",
        "\n",
        "def buscador(alvo, texto, normalizar=False):\n",
        "  # Limpeza básica do texto\n",
        "  texto = texto.replace('\\n', ' ')\n",
        "  texto = texto.replace('\\t', ' ')\n",
        "\n",
        "  texto_original = texto\n",
        "\n",
        "  # Normalização\n",
        "  if normalizar:\n",
        "    texto = texto.lower()\n",
        "    alvo = alvo.lower()\n",
        "\n",
        "  ocorrencias = []\n",
        "  encontrado_aqui = texto.find(alvo, 0)\n",
        "\n",
        "  while encontrado_aqui > 0:\n",
        "    pos_inicial = max(0, encontrado_aqui - (40 - len(alvo)))\n",
        "    trecho = texto_original[pos_inicial: pos_inicial + 80]\n",
        "    ocorrencias.append(trecho)\n",
        "    encontrado_aqui = texto.find(alvo, encontrado_aqui + 1)\n",
        "\n",
        "  return ocorrencias\n",
        "\n",
        "# Texto de exemplo\n",
        "texto = \"\"\"O paciente apresentava dores no Peito. PEITO muito dolorido.\n",
        "Outro relato com dor no peito e nas costas. Mas também mencionou a região torácica.\"\"\"\n",
        "\n",
        "# Busca sem normalização (case sensitive)\n",
        "resultados_sem_normalizacao = buscador('peito', texto, normalizar=False)\n",
        "\n",
        "# Busca com normalização (case insensitive)\n",
        "resultados_com_normalizacao = buscador('peito', texto, normalizar=True)\n",
        "\n",
        "# Exibição dos resultados\n",
        "print(\"\\nDefault:\")\n",
        "for trecho in resultados_sem_normalizacao:\n",
        "  print(f\"- {trecho}\")\n",
        "print(f\"\\nTotal encontrado (sem normalização): {len(resultados_sem_normalizacao)}\\n\")\n",
        "\n",
        "print(\"Normalizado:\")\n",
        "for trecho in resultados_com_normalizacao:\n",
        "  print(f\"- {trecho}\")\n",
        "print(f\"\\nTotal encontrado (com normalização): {len(resultados_com_normalizacao)}\\n\")\n",
        "\n",
        "print(\"-\" * 50)\n",
        "\n",
        "'''----------------------------------------------------------------------'''\n",
        "\n",
        "# Adaptando o mesmo código com o texto original\n",
        "\n",
        "def buscador(alvo, texto):\n",
        "  texto = texto.replace('\\n', ' ')\n",
        "  texto = texto.replace('\\t', ' ')\n",
        "\n",
        "  ocorrencias = []\n",
        "\n",
        "  encontrado_aqui = texto.find(alvo, 0)\n",
        "\n",
        "  while encontrado_aqui > 0:\n",
        "\n",
        "    pos_inicial = encontrado_aqui - (40 - len(alvo))\n",
        "    trecho = texto[pos_inicial: pos_inicial + 80]\n",
        "\n",
        "    ocorrencias.append(trecho)\n",
        "\n",
        "    encontrado_aqui = texto.find(alvo, encontrado_aqui + 1)\n",
        "\n",
        "  # Exibe os trechos encontrados\n",
        "  for trecho in ocorrencias:\n",
        "    print(trecho)\n",
        "\n",
        "  # Mostra a quantidade total de ocorrências\n",
        "  print(f\"\\nTotal encontrado: {len(ocorrencias)}\")\n",
        "\n",
        "  return ocorrencias\n",
        "\n",
        "# Exemplo de uso\n",
        "resultados = buscador('peito', texto = ler ('/content/drive/MyDrive/Ubirajara.txt'))"
      ],
      "metadata": {
        "id": "0-5G_IUbGQ7m",
        "colab": {
          "base_uri": "https://localhost:8080/"
        },
        "outputId": "d52ce1c7-9747-488b-8c28-d70063256f56"
      },
      "execution_count": 22,
      "outputs": [
        {
          "output_type": "stream",
          "name": "stdout",
          "text": [
            "\n",
            "Default:\n",
            "-  dolorido. Outro relato com dor no peito e nas costas. Mas também mencionou a re\n",
            "\n",
            "Total encontrado (sem normalização): 1\n",
            "\n",
            "Normalizado:\n",
            "- O paciente apresentava dores no Peito. PEITO muito dolorido. Outro relato com do\n",
            "- ciente apresentava dores no Peito. PEITO muito dolorido. Outro relato com dor no\n",
            "-  dolorido. Outro relato com dor no peito e nas costas. Mas também mencionou a re\n",
            "\n",
            "Total encontrado (com normalização): 3\n",
            "\n",
            "--------------------------------------------------\n",
            "i o chefe tocantim quem recebeu no peito a ponta farpada.  Quando o corpo robust\n",
            " se tua arma traiçoeira me feriu o peito, o suplicio não vencerá a constancia do\n",
            "java falar; todos escutaram com respeito o heróe, ainda maior na desgraça.  --Gu\n",
            "ança, escrava de Jaguarê, cravou o peito do inimigo.  «Elle caiu, o guerreiro ch\n",
            "O labio de Jandira emudeceu; mas o peito soluçou.  A virjem conheceu que o amor \n",
            " todos dignos de teu valor. Nestes peitos, que te pertencem, ella os nutrirá com\n",
            "ndos que os botões do cardo por um peito feroz, e as mãos lijeiras que tecem os \n",
            " o acolher, todos o escutam com respeito.  «Em suas palavras prudentes, os anciã\n",
            "não quando elle não chupa mais seu peito. Ella é como a mangabeira; nutre o frut\n",
            "ente do Xingú.  As arvores que seu peito encontrava caíam lascadas.  Jurandir es\n",
            "e. Os noivos cuidavam que era a do peito do tucano; mas ella sabia que era do pe\n",
            " tucano; mas ella sabia que era do peito da arára e que tinha as côres de seu gu\n",
            "os arredores. Nada encontrou de suspeito; o rasto, que o inquietava, não chegára\n",
            "amor, e quando o leite encher seus peitos mimozos, para que ella suspenda ao col\n",
            " O grande chefe vergou a cabeça ao peito, como o cedro altaneiro batido pelo tuf\n",
            "re a cabeça de Arací:  --Itaquê respeitou a lei de hospitalidade no corpo de Ubi\n",
            "as o grito de espanto sossobrou no peito dos guerreiros, e rompeu em um grito de\n",
            "o velho guerreiro sossobrou-lhe no peito:  --O arco de Itaquê é como o gavião qu\n",
            "s do guerreiro quando se cruzam ao peito para exprimir a amizade.  Ubirajara apa\n",
            "eu guerreiro.  Ubirajara cinjiu ao peito com um e outro braço, a espoza e a virj\n",
            "336.  Póde-se ler tambem a este respeito o que diz Gabriel Soares, cit. no cap. \n",
            "abriel Soares se exprime a este respeito no cap. 152: «E como o marido lhe leva \n",
            "ilizada se observa tão profundo respeito pela união conjugal, a ponto de não con\n",
            ". VIII, que a liga vermelha e o respeito que ella inspirava indicassem guarda da\n",
            " como sua extensão, dependia do respeito que elle conseguia infundir a seus guer\n",
            "quelles sacerdotes, cercados do respeito dos guerreiros, fortes pelo prestijio d\n",
            "lações do seu culto.  Tal era o respeito que o selvajem professava pela dignidad\n",
            "sseio. Ives d'Evreux diz a este respeito: «Ils sont fort soigneux de tenir leur \n",
            "vel e _nheng_ falar.--Veja-se a respeito dos cantores, _nhengara_, o que se diss\n",
            "\n",
            "Total encontrado: 29\n"
          ]
        }
      ]
    },
    {
      "cell_type": "markdown",
      "source": [
        "## Etapa 03 - Limpeza do Corpus"
      ],
      "metadata": {
        "id": "wV3vPfmekjD_"
      }
    },
    {
      "cell_type": "code",
      "source": [
        "palavras = texto.split()\n",
        "\n",
        "def limpar(lista):\n",
        "  lixo = '.,:;?!\"`´^~()[]{}/\\|@#$%¨&*-'\n",
        "  quase_limpo = [x.strip(lixo).lower() for x in lista]\n",
        "  return [x for x in quase_limpo if x.isalpha() or '-' not in x]\n",
        "\n",
        "teste = \"Corre-se atrás do carro, corre se o carro for embora.\"\n",
        "word = teste.split()\n",
        "print(word)\n",
        "print(limpar(word))\n",
        "\n",
        "print(len(palavras))\n",
        "palavras = limpar(palavras)\n",
        "print(len(palavras))"
      ],
      "metadata": {
        "colab": {
          "base_uri": "https://localhost:8080/"
        },
        "id": "EYFg0sQxkisW",
        "outputId": "f0df09ab-9453-43a9-b573-8ba47c5b1a99"
      },
      "execution_count": null,
      "outputs": [
        {
          "output_type": "stream",
          "name": "stdout",
          "text": [
            "['Corre-se', 'atrás', 'do', 'carro,', 'corre', 'se', 'o', 'carro', 'for', 'embora.']\n",
            "['atrás', 'do', 'carro', 'corre', 'se', 'o', 'carro', 'for', 'embora']\n",
            "37139\n",
            "36585\n"
          ]
        }
      ]
    },
    {
      "cell_type": "markdown",
      "source": [
        "### Desafio Etapa 3\n",
        "\n",
        "1. Refinar a limpeza de pontuação: O código strip remove apenas a pontuação nas bordas. Use o módulo re para remover qualquer pontuação dentro da palavra.\n",
        "\n",
        "2. Remoção de números: Ajuste a função limpar_tokens para remover palavras que são apenas números. (x.isalpha())"
      ],
      "metadata": {
        "id": "tQqyxbi1hTha"
      }
    },
    {
      "cell_type": "code",
      "source": [
        "import re\n",
        "\n",
        "def limpar(lista):\n",
        "  palavras_limpas = []\n",
        "\n",
        "  for palavra in lista:\n",
        "    # Substitui hífens por espaço (para separar palavras compostas)\n",
        "    palavra = palavra.replace('-', ' ')\n",
        "\n",
        "    # Remove outros caracteres especiais (pontuação, etc)\n",
        "    palavra = re.sub(r\"[^\\w\\s]\", \"\", palavra)\n",
        "\n",
        "    # Divide palavras que foram separadas pelo hífen\n",
        "    sub_palavras = palavra.split()\n",
        "\n",
        "    for sub in sub_palavras:\n",
        "      sub = sub.lower()\n",
        "      if sub.isalpha():  # garante que só letras passem\n",
        "        palavras_limpas.append(sub)\n",
        "\n",
        "  return palavras_limpas\n",
        "\n",
        "# Teste da função\n",
        "\n",
        "texto = \"Corre-se atrás do carro, corre se o carro for embora. 123 2025\"\n",
        "palavras = texto.split()\n",
        "\n",
        "print(\"Original:\", palavras)\n",
        "print(\"Limpo:\", limpar(palavras))\n",
        "print(\"Tamanho original:\", len(palavras))\n",
        "print(\"Tamanho limpo:\", len(limpar(palavras)))\n",
        "\n",
        "# Neste caso, ele retorna 11 palavras limpas pois apesar de termos limpado\n",
        "# 2 números, o corre-se foi quebrado em 2 palavras distintas.\n",
        "# 12 - 2 + 1 = 11\n",
        "\n",
        "print(\"-\" * 50)\n",
        "\n",
        "texto = ler ('/content/drive/MyDrive/Ubirajara.txt')\n",
        "palavras = texto.split()\n",
        "\n",
        "# Tirei a exibição do texto pra evitar um output gigante\n",
        "\n",
        "print(\"Tamanho original:\", len(palavras))\n",
        "print(\"Tamanho limpo:\", len(limpar(palavras)))\n"
      ],
      "metadata": {
        "id": "zBTnWOC6hSpT",
        "colab": {
          "base_uri": "https://localhost:8080/"
        },
        "outputId": "56a0921f-9979-4db7-fe6c-01a173b921f4"
      },
      "execution_count": 31,
      "outputs": [
        {
          "output_type": "stream",
          "name": "stdout",
          "text": [
            "Original: ['Corre-se', 'atrás', 'do', 'carro,', 'corre', 'se', 'o', 'carro', 'for', 'embora.', '123', '2025']\n",
            "Limpo: ['corre', 'se', 'atrás', 'do', 'carro', 'corre', 'se', 'o', 'carro', 'for', 'embora']\n",
            "Tamanho original: 12\n",
            "Tamanho limpo: 11\n",
            "--------------------------------------------------\n",
            "Tamanho original: 37139\n",
            "Tamanho limpo: 36846\n"
          ]
        }
      ]
    },
    {
      "cell_type": "markdown",
      "source": [
        "# Etapa 04 - Análise de quantidade de palavras e frequência"
      ],
      "metadata": {
        "id": "IXmKbbrFmJFU"
      }
    },
    {
      "cell_type": "code",
      "source": [
        "# Conhecer a quantidade de palavras e vocabulário\n",
        "\n",
        "vocabulario = set(palavras)\n",
        "len(vocabulario)\n",
        "\n",
        "# Calculando a riqueza textual do corpus\n",
        "\n",
        "riqueza = len(vocabulario) / len(palavras) # 6902 / 36585\n",
        "riqueza\n",
        "\n",
        "# Criar um dicionário deste texto\n",
        "\n",
        "from collections import defaultdict\n",
        "\n",
        "def ocorrencias (lista_palavras):\n",
        "  dicionario = defaultdict(int)\n",
        "  for p in lista_palavras:\n",
        "    dicionario[p] += 1\n",
        "\n",
        "  return dicionario\n",
        "\n",
        "dic = ocorrencias(palavras)\n",
        "mf = sorted(dic.items(), key = lambda tupla:tupla[1], reverse = True)[:50]\n",
        "for palavra, n in mf:\n",
        "  print(palavra,'\\t', n)\n",
        "dic\n",
        "\n",
        "import nltk\n",
        "nltk.download('stopwords')\n",
        "vazias = nltk.corpus.stopwords.words('portuguese')\n",
        "\n",
        "frequentes_plenas = [x for x in mf if x[0].lower() not in vazias]\n",
        "frequentes_plenas"
      ],
      "metadata": {
        "colab": {
          "base_uri": "https://localhost:8080/"
        },
        "id": "k4njZfsrmQsq",
        "outputId": "9b7626e4-b440-445d-e6fa-0933a252df3e"
      },
      "execution_count": 32,
      "outputs": [
        {
          "output_type": "stream",
          "name": "stdout",
          "text": [
            "a \t 1370\n",
            "o \t 1239\n",
            "de \t 1181\n",
            "que \t 1111\n",
            "e \t 911\n",
            "do \t 677\n",
            "da \t 624\n",
            "os \t 414\n",
            "para \t 340\n",
            "dos \t 326\n",
            "não \t 311\n",
            "se \t 273\n",
            "as \t 244\n",
            "como \t 238\n",
            "um \t 216\n",
            "seu \t 207\n",
            "em \t 202\n",
            "na \t 197\n",
            "mais \t 196\n",
            "com \t 193\n",
            "sua \t 187\n",
            "no \t 182\n",
            "ao \t 182\n",
            "guerreiro \t 175\n",
            "* \t 175\n",
            "á \t 174\n",
            "the \t 170\n",
            "é \t 169\n",
            "uma \t 158\n",
            "grande \t 153\n",
            "por \t 147\n",
            "O \t 139\n",
            "chefe \t 137\n",
            "elle \t 115\n",
            "das \t 113\n",
            "of \t 111\n",
            "guerreiros \t 107\n",
            "A \t 102\n",
            "mas \t 95\n",
            "era \t 91\n",
            "pela \t 90\n",
            "nação \t 90\n",
            "Ubirajara \t 90\n",
            "seus \t 86\n",
            "Project \t 79\n",
            "Os \t 76\n",
            "to \t 72\n",
            "quando \t 70\n",
            "or \t 68\n",
            "ou \t 67\n"
          ]
        },
        {
          "output_type": "stream",
          "name": "stderr",
          "text": [
            "[nltk_data] Downloading package stopwords to /root/nltk_data...\n",
            "[nltk_data]   Unzipping corpora/stopwords.zip.\n"
          ]
        },
        {
          "output_type": "execute_result",
          "data": {
            "text/plain": [
              "[('guerreiro', 175),\n",
              " ('*', 175),\n",
              " ('á', 174),\n",
              " ('the', 170),\n",
              " ('grande', 153),\n",
              " ('chefe', 137),\n",
              " ('elle', 115),\n",
              " ('of', 111),\n",
              " ('guerreiros', 107),\n",
              " ('nação', 90),\n",
              " ('Ubirajara', 90),\n",
              " ('Project', 79),\n",
              " ('to', 72),\n",
              " ('or', 68)]"
            ]
          },
          "metadata": {},
          "execution_count": 32
        }
      ]
    }
  ]
}